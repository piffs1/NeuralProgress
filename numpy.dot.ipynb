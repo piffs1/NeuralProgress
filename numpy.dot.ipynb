{
 "cells": [
  {
   "cell_type": "code",
   "execution_count": 3,
   "metadata": {},
   "outputs": [],
   "source": [
    "#numpy.dot(first,second) -> Умножение матрицы first * second\n",
    "import numpy as np"
   ]
  },
  {
   "cell_type": "code",
   "execution_count": 4,
   "metadata": {},
   "outputs": [],
   "source": [
    "testMtrxfirst = np.array([\n",
    "    [1, 2, 3],\n",
    "    [5, 1, 4],\n",
    "    [6, 7, 1]\n",
    "])"
   ]
  },
  {
   "cell_type": "code",
   "execution_count": 5,
   "metadata": {},
   "outputs": [],
   "source": [
    "testMtrxSecond = np.array([\n",
    "    [1, 2, 1],\n",
    "    [6, 1, 3],\n",
    "    [1, 5, 4]\n",
    "])"
   ]
  },
  {
   "cell_type": "code",
   "execution_count": 6,
   "metadata": {},
   "outputs": [
    {
     "name": "stdout",
     "output_type": "stream",
     "text": [
      "[[16 19 19]\n",
      " [15 31 24]\n",
      " [49 24 31]]\n"
     ]
    }
   ],
   "source": [
    "resultMatrix = np.dot(testMtrxfirst, testMtrxSecond)\n",
    "\n",
    "print(resultMatrix)"
   ]
  },
  {
   "cell_type": "code",
   "execution_count": 8,
   "metadata": {},
   "outputs": [
    {
     "name": "stdout",
     "output_type": "stream",
     "text": [
      "[[17 20 20]\n",
      " [16 32 25]\n",
      " [50 25 32]]\n"
     ]
    }
   ],
   "source": [
    "#Поэлементное сложение\n",
    "\n",
    "print(resultMatrix + 1)"
   ]
  },
  {
   "cell_type": "code",
   "execution_count": null,
   "metadata": {},
   "outputs": [],
   "source": []
  }
 ],
 "metadata": {
  "kernelspec": {
   "display_name": "Python 3",
   "language": "python",
   "name": "python3"
  },
  "language_info": {
   "codemirror_mode": {
    "name": "ipython",
    "version": 3
   },
   "file_extension": ".py",
   "mimetype": "text/x-python",
   "name": "python",
   "nbconvert_exporter": "python",
   "pygments_lexer": "ipython3",
   "version": "3.7.5"
  }
 },
 "nbformat": 4,
 "nbformat_minor": 2
}
